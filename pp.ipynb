{
 "cells": [
  {
   "cell_type": "code",
   "execution_count": null,
   "id": "2c3b6308",
   "metadata": {},
   "outputs": [],
   "source": [
    "import os \n",
    "import csv\n",
    "\n",
    "\n",
    "def output(registroContacto,  file='csv/data.csv'):\n",
    "    os.makedirs(os.path.dirname(file), exist_ok=True)\n",
    "\n",
    "    with open(file, mode='a', newline='') as f:\n",
    "        campos = ['id','nombre', 'email', 'telefono']\n",
    "        escritor = csv.DictWriter(f, fieldnames=campos)\n",
    "        escritor.writerow(registroContacto)"
   ]
  }
 ],
 "metadata": {
  "kernelspec": {
   "display_name": "venv",
   "language": "python",
   "name": "python3"
  },
  "language_info": {
   "codemirror_mode": {
    "name": "ipython",
    "version": 3
   },
   "file_extension": ".py",
   "mimetype": "text/x-python",
   "name": "python",
   "nbconvert_exporter": "python",
   "pygments_lexer": "ipython3",
   "version": "3.11.9"
  }
 },
 "nbformat": 4,
 "nbformat_minor": 5
}
